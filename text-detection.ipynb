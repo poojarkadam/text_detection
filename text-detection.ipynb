{
 "cells": [
  {
   "cell_type": "code",
   "execution_count": 5,
   "id": "7d0027cf",
   "metadata": {},
   "outputs": [
    {
     "name": "stdout",
     "output_type": "stream",
     "text": [
      "Collecting pytesseract\n",
      "  Downloading pytesseract-0.3.8.tar.gz (14 kB)\n",
      "Requirement already satisfied: Pillow in /usr/local/anaconda3/lib/python3.8/site-packages (from pytesseract) (8.2.0)\n",
      "Building wheels for collected packages: pytesseract\n",
      "  Building wheel for pytesseract (setup.py) ... \u001b[?25ldone\n",
      "\u001b[?25h  Created wheel for pytesseract: filename=pytesseract-0.3.8-py2.py3-none-any.whl size=14065 sha256=b2a9f9c0d22df1f8630fa03c95a494be03462ce15d052a8f4cf17c513beaa3de\n",
      "  Stored in directory: /Users/kodandaramadurgaraopoluri/Library/Caches/pip/wheels/ed/8a/c6/40c7ec06c2dd3df636832537238128a1471bf9c1b6a3a9bf40\n",
      "Successfully built pytesseract\n",
      "Installing collected packages: pytesseract\n",
      "Successfully installed pytesseract-0.3.8\n"
     ]
    }
   ],
   "source": [
    "!pip install pytesseract"
   ]
  },
  {
   "cell_type": "code",
   "execution_count": 11,
   "id": "8580bcbd",
   "metadata": {},
   "outputs": [],
   "source": [
    "import cv2\n",
    "import pytesseract"
   ]
  },
  {
   "cell_type": "code",
   "execution_count": 12,
   "id": "fb4e19f8",
   "metadata": {},
   "outputs": [],
   "source": [
    "img_cv = cv2.imread('text.png')\n",
    "img = cv2.cvtColor(img_cv, cv2.COLOR_BGR2RGB)"
   ]
  },
  {
   "cell_type": "code",
   "execution_count": 13,
   "id": "115cb6e8",
   "metadata": {},
   "outputs": [
    {
     "data": {
      "text/plain": [
       "113"
      ]
     },
     "execution_count": 13,
     "metadata": {},
     "output_type": "execute_result"
    }
   ],
   "source": [
    "cv2.imshow('image',img)\n",
    "cv2.waitKey(0)"
   ]
  },
  {
   "cell_type": "code",
   "execution_count": 14,
   "id": "107f332a",
   "metadata": {},
   "outputs": [
    {
     "name": "stdout",
     "output_type": "stream",
     "text": [
      "9:41\n",
      "\n",
      " \n",
      "\n",
      "Monday 3rd August 2020\n",
      "\n",
      "My App\n",
      "\f",
      "\n"
     ]
    }
   ],
   "source": [
    "print(pytesseract.image_to_string(img))"
   ]
  },
  {
   "cell_type": "code",
   "execution_count": 15,
   "id": "5fd780e6",
   "metadata": {},
   "outputs": [],
   "source": [
    "def gray(img):\n",
    "    \n",
    "    img = cv2.cvtColor(img, cv2.COLOR_BGR2GRAY)\n",
    "    cv2.imwrite(r\"./preprocess/img_gray.png\",img)\n",
    "    return img\n",
    "\n",
    "# blur\n",
    "def blur(img) :\n",
    "    img_blur = cv2.GaussianBlur(img,(5,5),0)\n",
    "    cv2.imwrite(r\"./preprocess/img_blur.png\",img)    \n",
    "    return img_blur\n",
    "\n",
    "# threshold\n",
    "def threshold(img):\n",
    "    #pixels with value below 100 are turned black (0) and those with higher value are turned white (255)\n",
    "    img = cv2.threshold(img, 100, 255, cv2.THRESH_OTSU | cv2.THRESH_BINARY)[1]    \n",
    "    cv2.imwrite(r\"./preprocess/img_threshold.png\",img)\n",
    "    return img"
   ]
  },
  {
   "cell_type": "code",
   "execution_count": 16,
   "id": "587803ad",
   "metadata": {},
   "outputs": [],
   "source": [
    "im_gray = gray(img)\n",
    "im_blur = blur(im_gray)\n",
    "im_thresh = threshold(im_blur)\n",
    "\n",
    "contours, _ = cv2.findContours(im_thresh, cv2.RETR_EXTERNAL, cv2.CHAIN_APPROX_NONE) "
   ]
  },
  {
   "cell_type": "code",
   "execution_count": 17,
   "id": "c3eb743d",
   "metadata": {},
   "outputs": [],
   "source": [
    "def contours_text(orig, img, contours):\n",
    "    for cnt in contours: \n",
    "        x, y, w, h = cv2.boundingRect(cnt) \n",
    "\n",
    "        # Drawing a rectangle on copied image \n",
    "        rect = cv2.rectangle(orig, (x, y), (x + w, y + h), (0, 255, 255), 2) \n",
    "        \n",
    "        cv2.imshow('cnt',rect)\n",
    "        cv2.waitKey()\n",
    "\n",
    "        # Cropping the text block for giving input to OCR \n",
    "        cropped = orig[y:y + h, x:x + w] \n",
    "\n",
    "        # Apply OCR on the cropped image \n",
    "        config = ('-l eng --oem 1 --psm 3')\n",
    "        text = pytesseract.image_to_string(cropped, config=config) \n",
    "\n",
    "        print(text)"
   ]
  },
  {
   "cell_type": "code",
   "execution_count": 18,
   "id": "95a82b04",
   "metadata": {},
   "outputs": [
    {
     "name": "stdout",
     "output_type": "stream",
     "text": [
      " \n",
      "\n",
      " \n",
      "\n",
      "9:41\n",
      "\n",
      "Monday 3rd August 2020\n",
      "\n",
      "My App\n",
      "\n",
      " \n",
      "\n",
      " \n",
      "\n",
      " \n",
      "\f",
      "\n"
     ]
    }
   ],
   "source": [
    "contours_text(img_cv, img, contours)"
   ]
  },
  {
   "cell_type": "code",
   "execution_count": null,
   "id": "d08cf246",
   "metadata": {},
   "outputs": [],
   "source": []
  }
 ],
 "metadata": {
  "kernelspec": {
   "display_name": "Python 3",
   "language": "python",
   "name": "python3"
  },
  "language_info": {
   "codemirror_mode": {
    "name": "ipython",
    "version": 3
   },
   "file_extension": ".py",
   "mimetype": "text/x-python",
   "name": "python",
   "nbconvert_exporter": "python",
   "pygments_lexer": "ipython3",
   "version": "3.8.8"
  }
 },
 "nbformat": 4,
 "nbformat_minor": 5
}
